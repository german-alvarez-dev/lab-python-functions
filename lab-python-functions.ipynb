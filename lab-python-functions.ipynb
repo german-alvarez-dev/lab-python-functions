{
 "cells": [
  {
   "cell_type": "markdown",
   "id": "25d7736c-ba17-4aff-b6bb-66eba20fbf4e",
   "metadata": {},
   "source": [
    "# Lab | Functions"
   ]
  },
  {
   "cell_type": "markdown",
   "id": "0c581062-8967-4d93-b06e-62833222f930",
   "metadata": {
    "tags": []
   },
   "source": [
    "## Exercise: Managing Customer Orders with Functions\n",
    "\n",
    "In the previous exercise, you improved the code for managing customer orders by using loops and flow control. Now, let's take it a step further and refactor the code by introducing functions.\n",
    "\n",
    "Follow the steps below to complete the exercise:\n",
    "\n",
    "1. Define a function named `initialize_inventory` that takes `products` as a parameter. Inside the function, implement the code for initializing the inventory dictionary using a loop and user input.\n",
    "\n",
    "2. Define a function named `get_customer_orders` that takes no parameters. Inside the function, implement the code for prompting the user to enter the product names using a loop. The function should return the `customer_orders` set.\n",
    "\n",
    "3. Define a function named `update_inventory` that takes `customer_orders` and `inventory` as parameters. Inside the function, implement the code for updating the inventory dictionary based on the customer orders.\n",
    "\n",
    "4. Define a function named `calculate_order_statistics` that takes `customer_orders` and `products` as parameters. Inside the function, implement the code for calculating the order statistics (total products ordered, and percentage of unique products ordered). The function should return these values.\n",
    "\n",
    "5. Define a function named `print_order_statistics` that takes `order_statistics` as a parameter. Inside the function, implement the code for printing the order statistics.\n",
    "\n",
    "6. Define a function named `print_updated_inventory` that takes `inventory` as a parameter. Inside the function, implement the code for printing the updated inventory.\n",
    "\n",
    "7. Call the functions in the appropriate sequence to execute the program and manage customer orders.\n",
    "\n",
    "Hints for functions:\n",
    "\n",
    "- Consider the input parameters required for each function and their return values.\n",
    "- Utilize function parameters and return values to transfer data between functions.\n",
    "- Test your functions individually to ensure they work correctly.\n",
    "\n",
    "\n"
   ]
  },
  {
   "cell_type": "code",
   "execution_count": 1,
   "id": "bdc522f7",
   "metadata": {},
   "outputs": [],
   "source": [
    "inventory = {}\n",
    "customer_orders = set()\n",
    "\n",
    "def initialize_inventory(products):\n",
    "    for product in products:\n",
    "        quantity = int(input(f\"Enter the quantity of {product}s available: \"))\n",
    "        inventory[product] = quantity\n",
    "\n",
    "    "
   ]
  },
  {
   "cell_type": "code",
   "execution_count": 2,
   "id": "dbfdc9be",
   "metadata": {},
   "outputs": [],
   "source": [
    "\n",
    "def get_customer_orders(add_another = 'yes'):\n",
    "    while add_another.lower() == 'yes':\n",
    "        product_name = input(\"Enter the name of a product that a customer wants to order: \")\n",
    "        customer_orders.add(product_name)\n",
    "        add_another = input(\"Do you want to add another product? (yes/no): \")    \n",
    "    return customer_orders"
   ]
  },
  {
   "cell_type": "code",
   "execution_count": 3,
   "id": "68d54025",
   "metadata": {},
   "outputs": [],
   "source": [
    "def update_inventory(customer_orders, inventory):\n",
    "    for product in customer_orders:\n",
    "        if product in inventory:\n",
    "            inventory[product] -= 1"
   ]
  },
  {
   "cell_type": "code",
   "execution_count": 4,
   "id": "24eba7c2",
   "metadata": {},
   "outputs": [],
   "source": [
    "def calculate_order_statistics(customer_orders, products):\n",
    "    \n",
    "    total_products_ordered = len(customer_orders)\n",
    "    unique_products = 0\n",
    "    \n",
    "    for product in products:\n",
    "        if product in customer_orders:\n",
    "            unique_products += 1\n",
    "    \n",
    "    percent_unique = (unique_products / total_products_ordered) * 100\n",
    "    \n",
    "    return total_products_ordered, percent_unique\n",
    "\n",
    "    "
   ]
  },
  {
   "cell_type": "code",
   "execution_count": 5,
   "id": "b0c361cf",
   "metadata": {},
   "outputs": [],
   "source": [
    "def print_order_statistics(order_statics):\n",
    "    print(order_statics)"
   ]
  },
  {
   "cell_type": "code",
   "execution_count": 6,
   "id": "7b7bf897",
   "metadata": {},
   "outputs": [],
   "source": [
    "def print_updated_inventory(inventory):\n",
    "    print(inventory)"
   ]
  },
  {
   "cell_type": "code",
   "execution_count": 18,
   "id": "5d4e34a2",
   "metadata": {},
   "outputs": [
    {
     "ename": "ValueError",
     "evalue": "invalid literal for int() with base 10: ''",
     "output_type": "error",
     "traceback": [
      "\u001b[0;31m---------------------------------------------------------------------------\u001b[0m",
      "\u001b[0;31mValueError\u001b[0m                                Traceback (most recent call last)",
      "Cell \u001b[0;32mIn[18], line 1\u001b[0m\n\u001b[0;32m----> 1\u001b[0m \u001b[43minitialize_inventory\u001b[49m\u001b[43m(\u001b[49m\u001b[43m[\u001b[49m\u001b[38;5;124;43m'\u001b[39;49m\u001b[38;5;124;43mbread\u001b[39;49m\u001b[38;5;124;43m'\u001b[39;49m\u001b[43m,\u001b[49m\u001b[43m \u001b[49m\u001b[38;5;124;43m'\u001b[39;49m\u001b[38;5;124;43mcupcakes\u001b[39;49m\u001b[38;5;124;43m'\u001b[39;49m\u001b[43m]\u001b[49m\u001b[43m)\u001b[49m\n\u001b[1;32m      2\u001b[0m orders \u001b[38;5;241m=\u001b[39m get_customer_orders()\n\u001b[1;32m      3\u001b[0m update_inventory(orders, inventory)\n",
      "Cell \u001b[0;32mIn[1], line 6\u001b[0m, in \u001b[0;36minitialize_inventory\u001b[0;34m(products)\u001b[0m\n\u001b[1;32m      4\u001b[0m \u001b[38;5;28;01mdef\u001b[39;00m \u001b[38;5;21minitialize_inventory\u001b[39m(products \u001b[38;5;241m=\u001b[39m []):\n\u001b[1;32m      5\u001b[0m     \u001b[38;5;28;01mfor\u001b[39;00m product \u001b[38;5;129;01min\u001b[39;00m products:\n\u001b[0;32m----> 6\u001b[0m         quantity \u001b[38;5;241m=\u001b[39m \u001b[38;5;28;43mint\u001b[39;49m\u001b[43m(\u001b[49m\u001b[38;5;28;43minput\u001b[39;49m\u001b[43m(\u001b[49m\u001b[38;5;124;43mf\u001b[39;49m\u001b[38;5;124;43m\"\u001b[39;49m\u001b[38;5;124;43mEnter the quantity of \u001b[39;49m\u001b[38;5;132;43;01m{\u001b[39;49;00m\u001b[43mproduct\u001b[49m\u001b[38;5;132;43;01m}\u001b[39;49;00m\u001b[38;5;124;43ms available: \u001b[39;49m\u001b[38;5;124;43m\"\u001b[39;49m\u001b[43m)\u001b[49m\u001b[43m)\u001b[49m\n\u001b[1;32m      7\u001b[0m         inventory[product] \u001b[38;5;241m=\u001b[39m quantity\n",
      "\u001b[0;31mValueError\u001b[0m: invalid literal for int() with base 10: ''"
     ]
    }
   ],
   "source": [
    "initialize_inventory(['bread', 'cupcakes'])\n",
    "orders = get_customer_orders()\n",
    "update_inventory(orders, inventory)\n",
    "total_products, percent_unique = calculate_order_statistics(orders, products = ['bread', 'cupcakes'])\n",
    "print('total', total_products)\n",
    "print('percent', percent_unique)\n",
    "print_order_statistics(f'total {total_products} unique {percent_unique}')\n",
    "print_updated_inventory('hey')\n"
   ]
  },
  {
   "cell_type": "code",
   "execution_count": null,
   "id": "db111968",
   "metadata": {},
   "outputs": [],
   "source": []
  }
 ],
 "metadata": {
  "kernelspec": {
   "display_name": "Python 3 (ipykernel)",
   "language": "python",
   "name": "python3"
  },
  "language_info": {
   "codemirror_mode": {
    "name": "ipython",
    "version": 3
   },
   "file_extension": ".py",
   "mimetype": "text/x-python",
   "name": "python",
   "nbconvert_exporter": "python",
   "pygments_lexer": "ipython3",
   "version": "3.8.5"
  }
 },
 "nbformat": 4,
 "nbformat_minor": 5
}
